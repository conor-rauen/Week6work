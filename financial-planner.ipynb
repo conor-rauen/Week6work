{
 "cells": [
  {
   "cell_type": "markdown",
   "metadata": {},
   "source": [
    "# Unit 5 - Financial Planning"
   ]
  },
  {
   "cell_type": "code",
   "execution_count": 1,
   "metadata": {},
   "outputs": [],
   "source": [
    "# Initial imports\n",
    "import os\n",
    "import requests\n",
    "import pandas as pd\n",
    "from dotenv import load_dotenv\n",
    "import alpaca_trade_api as tradeapi\n",
    "from MCForecastTools import MCSimulation\n",
    "\n",
    "%matplotlib inline"
   ]
  },
  {
   "cell_type": "code",
   "execution_count": 2,
   "metadata": {},
   "outputs": [
    {
     "data": {
      "text/plain": [
       "True"
      ]
     },
     "execution_count": 2,
     "metadata": {},
     "output_type": "execute_result"
    }
   ],
   "source": [
    "# Load .env enviroment variables\n",
    "load_dotenv()"
   ]
  },
  {
   "cell_type": "markdown",
   "metadata": {},
   "source": [
    "## Part 1 - Personal Finance Planner"
   ]
  },
  {
   "cell_type": "markdown",
   "metadata": {},
   "source": [
    "### Collect Crypto Prices Using the `requests` Library"
   ]
  },
  {
   "cell_type": "code",
   "execution_count": 3,
   "metadata": {},
   "outputs": [
    {
     "data": {
      "text/html": [
       "<div>\n",
       "<style scoped>\n",
       "    .dataframe tbody tr th:only-of-type {\n",
       "        vertical-align: middle;\n",
       "    }\n",
       "\n",
       "    .dataframe tbody tr th {\n",
       "        vertical-align: top;\n",
       "    }\n",
       "\n",
       "    .dataframe thead th {\n",
       "        text-align: right;\n",
       "    }\n",
       "</style>\n",
       "<table border=\"1\" class=\"dataframe\">\n",
       "  <thead>\n",
       "    <tr style=\"text-align: right;\">\n",
       "      <th></th>\n",
       "      <th>Shares</th>\n",
       "    </tr>\n",
       "  </thead>\n",
       "  <tbody>\n",
       "    <tr>\n",
       "      <th>BTC</th>\n",
       "      <td>1.2</td>\n",
       "    </tr>\n",
       "    <tr>\n",
       "      <th>ETH</th>\n",
       "      <td>5.3</td>\n",
       "    </tr>\n",
       "  </tbody>\n",
       "</table>\n",
       "</div>"
      ],
      "text/plain": [
       "     Shares\n",
       "BTC     1.2\n",
       "ETH     5.3"
      ]
     },
     "execution_count": 3,
     "metadata": {},
     "output_type": "execute_result"
    }
   ],
   "source": [
    "# Set current amount of crypto assets\n",
    "# YOUR CODE HERE!\n",
    "shares_data = {\n",
    "    \"Shares\": [1.2, 5.3]\n",
    "}\n",
    "\n",
    "Crypto = ['BTC', 'ETH']\n",
    "\n",
    "df_shares = pd.DataFrame(shares_data, index=Crypto)\n",
    "\n",
    "df_shares"
   ]
  },
  {
   "cell_type": "code",
   "execution_count": 4,
   "metadata": {},
   "outputs": [],
   "source": [
    "# Crypto API URLs\n",
    "btc_url = \"https://api.alternative.me/v2/ticker/Bitcoin/?convert=USD\"\n",
    "eth_url = \"https://api.alternative.me/v2/ticker/Ethereum/?convert=USD\""
   ]
  },
  {
   "cell_type": "code",
   "execution_count": 99,
   "metadata": {},
   "outputs": [
    {
     "name": "stdout",
     "output_type": "stream",
     "text": [
      "27394.8\n",
      "9665.928\n"
     ]
    }
   ],
   "source": [
    "# Fetch current BTC price\n",
    "# YOUR CODE HERE!\n",
    "btc_price = requests.get(btc_url).json()\n",
    "btc_price = btc_price['data']['1']['quotes']['USD']['price']\n",
    "\n",
    "# Fetch current ETH price\n",
    "# YOUR CODE HERE!\n",
    "\n",
    "eth_price = requests.get(eth_url).json()\n",
    "eth_price = eth_price['data']['1027']['quotes']['USD']['price']\n",
    "# Compute current value of my crpto\n",
    "my_btc= 1.2\n",
    "my_eth= 5.3\n",
    "# YOUR CODE HERE!\n",
    "\n",
    "my_btc_value = btc_price*my_btc\n",
    "my_eth_value = eth_price*my_eth\n",
    "\n",
    "print(my_btc_value)\n",
    "print(my_eth_value)\n",
    "\n",
    "#print(eth, ['USD'])\n",
    "# Print current crypto wallet balance\n",
    "#print(f\"The current value of your {my_btc} BTC is ${my_btc_value:0.2f}\")\n",
    "#print(f\"The current value of your {my_eth} ETH is ${my_eth_value:0.2f}\")"
   ]
  },
  {
   "cell_type": "markdown",
   "metadata": {},
   "source": [
    "### Collect Investments Data Using Alpaca: `SPY` (stocks) and `AGG` (bonds)"
   ]
  },
  {
   "cell_type": "code",
   "execution_count": 89,
   "metadata": {},
   "outputs": [
    {
     "data": {
      "text/html": [
       "<div>\n",
       "<style scoped>\n",
       "    .dataframe tbody tr th:only-of-type {\n",
       "        vertical-align: middle;\n",
       "    }\n",
       "\n",
       "    .dataframe tbody tr th {\n",
       "        vertical-align: top;\n",
       "    }\n",
       "\n",
       "    .dataframe thead th {\n",
       "        text-align: right;\n",
       "    }\n",
       "</style>\n",
       "<table border=\"1\" class=\"dataframe\">\n",
       "  <thead>\n",
       "    <tr style=\"text-align: right;\">\n",
       "      <th></th>\n",
       "      <th>Shares</th>\n",
       "    </tr>\n",
       "  </thead>\n",
       "  <tbody>\n",
       "    <tr>\n",
       "      <th>AGG</th>\n",
       "      <td>200</td>\n",
       "    </tr>\n",
       "    <tr>\n",
       "      <th>SPY</th>\n",
       "      <td>50</td>\n",
       "    </tr>\n",
       "  </tbody>\n",
       "</table>\n",
       "</div>"
      ],
      "text/plain": [
       "     Shares\n",
       "AGG     200\n",
       "SPY      50"
      ]
     },
     "execution_count": 89,
     "metadata": {},
     "output_type": "execute_result"
    }
   ],
   "source": [
    "# Set current amount of shares\n",
    "stock_data = {\n",
    "    \"Shares\": [200, 50]\n",
    "}\n",
    "\n",
    "tickers= ['AGG', \"SPY\"]\n",
    "stock_data= pd.DataFrame(stock_data, index=tickers)\n",
    "\n",
    "my_agg = 200 \n",
    "my_spy = 50\n",
    "    \n",
    "stock_data\n",
    "              \n"
   ]
  },
  {
   "cell_type": "code",
   "execution_count": 90,
   "metadata": {},
   "outputs": [],
   "source": [
    "# Set Alpaca API key and secret\n",
    "# YOUR CODE HERE!\n",
    "alpaca_api_key = os.getenv(\"ALPACA_API_KEY\")\n",
    "alpaca_secret_key = os.getenv(\"ALPACA_SECRET_KEY\")\n",
    "#alpaca_url = \"https://app.alpaca.markets/\"\n",
    "\n",
    "\n",
    "# Create the Alpaca API object\n",
    "# YOUR CODE HERE!\n",
    "alpaca = tradeapi.REST(\n",
    "    alpaca_api_key,\n",
    "    alpaca_secret_key,  \n",
    "    api_version='v2')"
   ]
  },
  {
   "cell_type": "code",
   "execution_count": 91,
   "metadata": {},
   "outputs": [
    {
     "name": "stdout",
     "output_type": "stream",
     "text": [
      "                            close\n",
      "timestamp                        \n",
      "2022-08-18 04:00:00+00:00  102.71\n",
      "                            close\n",
      "timestamp                        \n",
      "2022-08-18 04:00:00+00:00  427.89\n"
     ]
    },
    {
     "data": {
      "text/html": [
       "<div>\n",
       "<style scoped>\n",
       "    .dataframe tbody tr th:only-of-type {\n",
       "        vertical-align: middle;\n",
       "    }\n",
       "\n",
       "    .dataframe tbody tr th {\n",
       "        vertical-align: top;\n",
       "    }\n",
       "\n",
       "    .dataframe thead tr th {\n",
       "        text-align: left;\n",
       "    }\n",
       "\n",
       "    .dataframe thead tr:last-of-type th {\n",
       "        text-align: right;\n",
       "    }\n",
       "</style>\n",
       "<table border=\"1\" class=\"dataframe\">\n",
       "  <thead>\n",
       "    <tr>\n",
       "      <th></th>\n",
       "      <th>SPY</th>\n",
       "      <th>AGG</th>\n",
       "    </tr>\n",
       "    <tr>\n",
       "      <th></th>\n",
       "      <th>close</th>\n",
       "      <th>close</th>\n",
       "    </tr>\n",
       "    <tr>\n",
       "      <th>timestamp</th>\n",
       "      <th></th>\n",
       "      <th></th>\n",
       "    </tr>\n",
       "  </thead>\n",
       "  <tbody>\n",
       "    <tr>\n",
       "      <th>2022-08-18 04:00:00+00:00</th>\n",
       "      <td>427.89</td>\n",
       "      <td>102.71</td>\n",
       "    </tr>\n",
       "  </tbody>\n",
       "</table>\n",
       "</div>"
      ],
      "text/plain": [
       "                              SPY     AGG\n",
       "                            close   close\n",
       "timestamp                                \n",
       "2022-08-18 04:00:00+00:00  427.89  102.71"
      ]
     },
     "execution_count": 91,
     "metadata": {},
     "output_type": "execute_result"
    }
   ],
   "source": [
    "# Format current date as ISO format\n",
    "# YOUR CODE HERE!\n",
    "today = pd.Timestamp('2022-08-17', tz='America/Phoenix').isoformat()\n",
    "# Set the tickers\n",
    "tickers = [\"AGG\", \"SPY\"]\n",
    "\n",
    "# Set timeframe to \"1Day\" for Alpaca API\n",
    "timeframe = \"1Day\"\n",
    "\n",
    "# Get current closing prices for SPY and AGG\n",
    "\n",
    "# YOUR CODE HERE!\n",
    "Portfolio_closing_price= alpaca.get_bars(\n",
    "    tickers,\n",
    "    timeframe,\n",
    "    start = today,\n",
    ").df\n",
    "\n",
    "# Reorganize the DataFrame\n",
    "Portfolio_closing_price = Portfolio_closing_price.drop(columns=['open', 'high', 'low', 'volume', 'trade_count', 'vwap'])\n",
    "#Portfolio_closing_price = Portfolio_closing_price.set_index(['close'], inplace=True)\n",
    "#Portfolio_closing_price\n",
    "#Portfolio_closing_price.drop(columns=['close'])\n",
    "#print(Portfolio_closing_price)\n",
    "\n",
    "# Separate ticker data\n",
    "# YOUR CODE HERE!\n",
    "\n",
    "agg_close_price=Portfolio_closing_price[Portfolio_closing_price['symbol']=='AGG'].drop('symbol', axis=1)\n",
    "spy_close_price = Portfolio_closing_price[Portfolio_closing_price['symbol']=='SPY'].drop('symbol', axis=1)\n",
    "\n",
    "print(agg_close_price)\n",
    "print(spy_close_price)\n",
    "#print(Separated_Portfolio)\n",
    "# Concatenate the ticker DataFrames\n",
    "df_ticker = pd.concat([spy_close_price, agg_close_price], axis=1, keys=['SPY', 'AGG'])\n",
    "\n",
    "# YOUR CODE HERE!\n",
    "\n",
    "# Preview DataFrame\n",
    "df_ticker\n",
    "# YOUR CODE HERE!"
   ]
  },
  {
   "cell_type": "code",
   "execution_count": 92,
   "metadata": {},
   "outputs": [
    {
     "name": "stdout",
     "output_type": "stream",
     "text": [
      "Current AGG closing price: $102.71\n",
      "Current SPY closing price: $427.89\n"
     ]
    }
   ],
   "source": [
    "# Pick AGG and SPY close prices\n",
    "agg_close_price = float(df_ticker['AGG']['close'])\n",
    "spy_close_price = float(df_ticker['SPY']['close'])\n",
    "# YOUR CODE HERE!\n",
    "\n",
    "# Print AGG and SPY close prices\n",
    "print(f\"Current AGG closing price: ${agg_close_price}\")\n",
    "print(f\"Current SPY closing price: ${spy_close_price}\")"
   ]
  },
  {
   "cell_type": "code",
   "execution_count": 93,
   "metadata": {},
   "outputs": [
    {
     "name": "stdout",
     "output_type": "stream",
     "text": [
      "The current value of your 50 SPY shares is $21394.50\n",
      "The current value of your 200 AGG shares is $20542.00\n"
     ]
    }
   ],
   "source": [
    "# Compute the current value of shares\n",
    "# YOUR CODE HERE!\n",
    "my_agg_value = my_agg*agg_close_price\n",
    "my_spy_value = my_spy*spy_close_price\n",
    "\n",
    "# Print current value of shares\n",
    "print(f\"The current value of your {my_spy} SPY shares is ${my_spy_value:0.2f}\")\n",
    "print(f\"The current value of your {my_agg} AGG shares is ${my_agg_value:0.2f}\")"
   ]
  },
  {
   "cell_type": "markdown",
   "metadata": {},
   "source": [
    "### Savings Health Analysis"
   ]
  },
  {
   "cell_type": "code",
   "execution_count": 100,
   "metadata": {},
   "outputs": [
    {
     "data": {
      "text/html": [
       "<div>\n",
       "<style scoped>\n",
       "    .dataframe tbody tr th:only-of-type {\n",
       "        vertical-align: middle;\n",
       "    }\n",
       "\n",
       "    .dataframe tbody tr th {\n",
       "        vertical-align: top;\n",
       "    }\n",
       "\n",
       "    .dataframe thead th {\n",
       "        text-align: right;\n",
       "    }\n",
       "</style>\n",
       "<table border=\"1\" class=\"dataframe\">\n",
       "  <thead>\n",
       "    <tr style=\"text-align: right;\">\n",
       "      <th></th>\n",
       "      <th>amount</th>\n",
       "    </tr>\n",
       "  </thead>\n",
       "  <tbody>\n",
       "    <tr>\n",
       "      <th>crypto</th>\n",
       "      <td>41936.500</td>\n",
       "    </tr>\n",
       "    <tr>\n",
       "      <th>shares</th>\n",
       "      <td>37060.728</td>\n",
       "    </tr>\n",
       "  </tbody>\n",
       "</table>\n",
       "</div>"
      ],
      "text/plain": [
       "           amount\n",
       "crypto  41936.500\n",
       "shares  37060.728"
      ]
     },
     "metadata": {},
     "output_type": "display_data"
    }
   ],
   "source": [
    "# Set monthly household income\n",
    "# YOUR CODE HERE!\n",
    "monthly_income= 12000\n",
    "# Consolidate financial assets data\n",
    "# YOUR CODE HERE!\n",
    "my_crypto = my_btc_value+my_eth_value\n",
    "my_shares = my_agg_value+my_spy_value\n",
    "# Create savings DataFrame\n",
    "# YOUR CODE HERE!\n",
    "savings = {\n",
    "    'amount': [my_shares, my_crypto],\n",
    "    'Crypto': [my_crpto],\n",
    "    'Stocks': [my_shares]\n",
    "}\n",
    "# Display savings DataFrame\n",
    "df_savings= pd.DataFrame(savings, index=['crypto', 'shares'], columns=['amount'])\n",
    "display(df_savings)"
   ]
  },
  {
   "cell_type": "code",
   "execution_count": 101,
   "metadata": {},
   "outputs": [
    {
     "data": {
      "text/plain": [
       "<AxesSubplot:title={'center':'Total of Personal Savings'}, ylabel='amount'>"
      ]
     },
     "execution_count": 101,
     "metadata": {},
     "output_type": "execute_result"
    },
    {
     "data": {
      "image/png": "[encoded data removed]",
      "text/plain": [
       "<Figure size 432x288 with 1 Axes>"
      ]
     },
     "metadata": {},
     "output_type": "display_data"
    }
   ],
   "source": [
    "# Plot savings pie chart\n",
    "df_savings.plot.pie(y='amount', title='Total of Personal Savings')\n",
    "# YOUR CODE HERE!"
   ]
  },
  {
   "cell_type": "code",
   "execution_count": 103,
   "metadata": {},
   "outputs": [
    {
     "name": "stdout",
     "output_type": "stream",
     "text": [
      "You have saved enough\n"
     ]
    }
   ],
   "source": [
    "# Set ideal emergency fund\n",
    "emergency_fund = monthly_income * 3\n",
    "\n",
    "# Calculate total amount of savings\n",
    "# YOUR CODE HERE!\n",
    "total_amount_savings = my_shares + my_crypto\n",
    "# Validate saving health\n",
    "if total_amount_savings > emergency_fund:\n",
    "    print('You have saved enough')\n",
    "elif total_amount_savings < emergency_fund:\n",
    "    print('Back to work your not quitting anytime soon, Dont get sick')\n",
    "elif total_amount_savings == emergency_fund:\n",
    "    print('Youve hit your savings goal! Congrats')\n",
    "# YOUR CODE HERE!"
   ]
  },
  {
   "cell_type": "markdown",
   "metadata": {},
   "source": [
    "## Part 2 - Retirement Planning\n",
    "\n",
    "### Monte Carlo Simulation"
   ]
  },
  {
   "cell_type": "code",
   "execution_count": 108,
   "metadata": {},
   "outputs": [],
   "source": [
    "# Set start and end dates of five years back from today.\n",
    "# Sample results may vary from the solution based on the time frame chosen\n",
    "start_date = pd.Timestamp('2016-05-01', tz='America/New_York').isoformat()\n",
    "end_date = pd.Timestamp('2021-05-01', tz='America/New_York').isoformat()"
   ]
  },
  {
   "cell_type": "code",
   "execution_count": 117,
   "metadata": {},
   "outputs": [
    {
     "data": {
      "text/html": [
       "<div>\n",
       "<style scoped>\n",
       "    .dataframe tbody tr th:only-of-type {\n",
       "        vertical-align: middle;\n",
       "    }\n",
       "\n",
       "    .dataframe tbody tr th {\n",
       "        vertical-align: top;\n",
       "    }\n",
       "\n",
       "    .dataframe thead tr th {\n",
       "        text-align: left;\n",
       "    }\n",
       "\n",
       "    .dataframe thead tr:last-of-type th {\n",
       "        text-align: right;\n",
       "    }\n",
       "</style>\n",
       "<table border=\"1\" class=\"dataframe\">\n",
       "  <thead>\n",
       "    <tr>\n",
       "      <th></th>\n",
       "      <th colspan=\"7\" halign=\"left\">SPY</th>\n",
       "      <th colspan=\"7\" halign=\"left\">AGG</th>\n",
       "    </tr>\n",
       "    <tr>\n",
       "      <th></th>\n",
       "      <th>open</th>\n",
       "      <th>high</th>\n",
       "      <th>low</th>\n",
       "      <th>close</th>\n",
       "      <th>volume</th>\n",
       "      <th>trade_count</th>\n",
       "      <th>vwap</th>\n",
       "      <th>open</th>\n",
       "      <th>high</th>\n",
       "      <th>low</th>\n",
       "      <th>close</th>\n",
       "      <th>volume</th>\n",
       "      <th>trade_count</th>\n",
       "      <th>vwap</th>\n",
       "    </tr>\n",
       "    <tr>\n",
       "      <th>timestamp</th>\n",
       "      <th></th>\n",
       "      <th></th>\n",
       "      <th></th>\n",
       "      <th></th>\n",
       "      <th></th>\n",
       "      <th></th>\n",
       "      <th></th>\n",
       "      <th></th>\n",
       "      <th></th>\n",
       "      <th></th>\n",
       "      <th></th>\n",
       "      <th></th>\n",
       "      <th></th>\n",
       "      <th></th>\n",
       "    </tr>\n",
       "  </thead>\n",
       "  <tbody>\n",
       "    <tr>\n",
       "      <th>2017-08-18 04:00:00+00:00</th>\n",
       "      <td>242.95</td>\n",
       "      <td>244.189</td>\n",
       "      <td>242.20</td>\n",
       "      <td>242.71</td>\n",
       "      <td>136747986</td>\n",
       "      <td>389140</td>\n",
       "      <td>243.019365</td>\n",
       "      <td>110.05</td>\n",
       "      <td>110.14</td>\n",
       "      <td>109.89</td>\n",
       "      <td>109.95</td>\n",
       "      <td>1564794</td>\n",
       "      <td>7827</td>\n",
       "      <td>109.993232</td>\n",
       "    </tr>\n",
       "    <tr>\n",
       "      <th>2017-08-21 04:00:00+00:00</th>\n",
       "      <td>242.64</td>\n",
       "      <td>243.200</td>\n",
       "      <td>241.83</td>\n",
       "      <td>242.90</td>\n",
       "      <td>65469736</td>\n",
       "      <td>231509</td>\n",
       "      <td>242.723675</td>\n",
       "      <td>110.01</td>\n",
       "      <td>110.09</td>\n",
       "      <td>109.97</td>\n",
       "      <td>110.03</td>\n",
       "      <td>1717640</td>\n",
       "      <td>7688</td>\n",
       "      <td>110.029578</td>\n",
       "    </tr>\n",
       "    <tr>\n",
       "      <th>2017-08-22 04:00:00+00:00</th>\n",
       "      <td>243.60</td>\n",
       "      <td>245.620</td>\n",
       "      <td>243.55</td>\n",
       "      <td>245.44</td>\n",
       "      <td>63140101</td>\n",
       "      <td>225770</td>\n",
       "      <td>244.835231</td>\n",
       "      <td>109.99</td>\n",
       "      <td>110.02</td>\n",
       "      <td>109.87</td>\n",
       "      <td>109.93</td>\n",
       "      <td>1992321</td>\n",
       "      <td>8252</td>\n",
       "      <td>109.929751</td>\n",
       "    </tr>\n",
       "    <tr>\n",
       "      <th>2017-08-23 04:00:00+00:00</th>\n",
       "      <td>244.34</td>\n",
       "      <td>245.050</td>\n",
       "      <td>244.16</td>\n",
       "      <td>244.56</td>\n",
       "      <td>50203837</td>\n",
       "      <td>162095</td>\n",
       "      <td>244.690966</td>\n",
       "      <td>110.08</td>\n",
       "      <td>110.19</td>\n",
       "      <td>110.01</td>\n",
       "      <td>110.18</td>\n",
       "      <td>1894934</td>\n",
       "      <td>10186</td>\n",
       "      <td>110.092715</td>\n",
       "    </tr>\n",
       "    <tr>\n",
       "      <th>2017-08-24 04:00:00+00:00</th>\n",
       "      <td>245.00</td>\n",
       "      <td>245.180</td>\n",
       "      <td>243.75</td>\n",
       "      <td>243.99</td>\n",
       "      <td>50741671</td>\n",
       "      <td>196830</td>\n",
       "      <td>244.323684</td>\n",
       "      <td>110.07</td>\n",
       "      <td>110.16</td>\n",
       "      <td>109.99</td>\n",
       "      <td>110.04</td>\n",
       "      <td>2102142</td>\n",
       "      <td>10203</td>\n",
       "      <td>110.051035</td>\n",
       "    </tr>\n",
       "  </tbody>\n",
       "</table>\n",
       "</div>"
      ],
      "text/plain": [
       "                              SPY                                      \\\n",
       "                             open     high     low   close     volume   \n",
       "timestamp                                                               \n",
       "2017-08-18 04:00:00+00:00  242.95  244.189  242.20  242.71  136747986   \n",
       "2017-08-21 04:00:00+00:00  242.64  243.200  241.83  242.90   65469736   \n",
       "2017-08-22 04:00:00+00:00  243.60  245.620  243.55  245.44   63140101   \n",
       "2017-08-23 04:00:00+00:00  244.34  245.050  244.16  244.56   50203837   \n",
       "2017-08-24 04:00:00+00:00  245.00  245.180  243.75  243.99   50741671   \n",
       "\n",
       "                                                      AGG                  \\\n",
       "                          trade_count        vwap    open    high     low   \n",
       "timestamp                                                                   \n",
       "2017-08-18 04:00:00+00:00      389140  243.019365  110.05  110.14  109.89   \n",
       "2017-08-21 04:00:00+00:00      231509  242.723675  110.01  110.09  109.97   \n",
       "2017-08-22 04:00:00+00:00      225770  244.835231  109.99  110.02  109.87   \n",
       "2017-08-23 04:00:00+00:00      162095  244.690966  110.08  110.19  110.01   \n",
       "2017-08-24 04:00:00+00:00      196830  244.323684  110.07  110.16  109.99   \n",
       "\n",
       "                                                                    \n",
       "                            close   volume trade_count        vwap  \n",
       "timestamp                                                           \n",
       "2017-08-18 04:00:00+00:00  109.95  1564794        7827  109.993232  \n",
       "2017-08-21 04:00:00+00:00  110.03  1717640        7688  110.029578  \n",
       "2017-08-22 04:00:00+00:00  109.93  1992321        8252  109.929751  \n",
       "2017-08-23 04:00:00+00:00  110.18  1894934       10186  110.092715  \n",
       "2017-08-24 04:00:00+00:00  110.04  2102142       10203  110.051035  "
      ]
     },
     "execution_count": 117,
     "metadata": {},
     "output_type": "execute_result"
    }
   ],
   "source": [
    "# Get 5 years' worth of historical data for SPY and AGG\n",
    "# YOUR CODE HERE!\n",
    "end_day = pd.Timestamp('2022-08-17', tz='America/Phoenix').isoformat()\n",
    "five_years_ago = pd.Timestamp('2017-08-17', tz='America/Phoenix').isoformat()\n",
    "# Set the tickers\n",
    "tickers = [\"AGG\", \"SPY\"]\n",
    "\n",
    "# Set timeframe to \"1Day\" for Alpaca API\n",
    "timeframe = \"1day\"\n",
    "\n",
    "# Get current closing prices for SPY and AGG\n",
    "\n",
    "# YOUR CODE HERE!\n",
    "df_stock_data= alpaca.get_bars(\n",
    "    tickers,\n",
    "    timeframe,\n",
    "    start = five_years_ago,\n",
    "    end = end_day\n",
    "    \n",
    ").df\n",
    "\n",
    "# Reorganize the DataFrame\n",
    "SPY = df_stock_data[df_stock_data['symbol'] == 'SPY'].drop('symbol', axis=1)\n",
    "AGG = df_stock_data[df_stock_data['symbol'] == 'AGG'].drop('symbol', axis=1)\n",
    "# Separate ticker data\n",
    "# YOUR CODE HERE!\n",
    "\n",
    "\n",
    "# Concatenate the ticker DataFrames\n",
    "df_history_data = pd.concat([SPY, AGG], axis=1, keys=['SPY', 'AGG'])\n",
    "# YOUR CODE HERE!\n",
    "\n",
    "# Display sample data\n",
    "df_history_data.head()"
   ]
  },
  {
   "cell_type": "code",
   "execution_count": 131,
   "metadata": {},
   "outputs": [],
   "source": [
    "# Configuring a Monte Carlo simulation to forecast 30 years cumulative returns\n",
    "# YOUR CODE HERE!\n",
    "years = 30\n",
    "\n",
    "trading_days = 252\n",
    "\n",
    "MCsim = MCSimulation(\n",
    "    portfolio_data = df_history_data,\n",
    "    weights = [.6,.4],\n",
    "    num_simulation = 500,\n",
    "    num_trading_days = trading_days\n",
    ")\n",
    "    \n"
   ]
  },
  {
   "cell_type": "code",
   "execution_count": 132,
   "metadata": {},
   "outputs": [
    {
     "data": {
      "text/html": [
       "<div>\n",
       "<style scoped>\n",
       "    .dataframe tbody tr th:only-of-type {\n",
       "        vertical-align: middle;\n",
       "    }\n",
       "\n",
       "    .dataframe tbody tr th {\n",
       "        vertical-align: top;\n",
       "    }\n",
       "\n",
       "    .dataframe thead tr th {\n",
       "        text-align: left;\n",
       "    }\n",
       "\n",
       "    .dataframe thead tr:last-of-type th {\n",
       "        text-align: right;\n",
       "    }\n",
       "</style>\n",
       "<table border=\"1\" class=\"dataframe\">\n",
       "  <thead>\n",
       "    <tr>\n",
       "      <th></th>\n",
       "      <th colspan=\"8\" halign=\"left\">SPY</th>\n",
       "      <th colspan=\"8\" halign=\"left\">AGG</th>\n",
       "    </tr>\n",
       "    <tr>\n",
       "      <th></th>\n",
       "      <th>open</th>\n",
       "      <th>high</th>\n",
       "      <th>low</th>\n",
       "      <th>close</th>\n",
       "      <th>volume</th>\n",
       "      <th>trade_count</th>\n",
       "      <th>vwap</th>\n",
       "      <th>daily_return</th>\n",
       "      <th>open</th>\n",
       "      <th>high</th>\n",
       "      <th>low</th>\n",
       "      <th>close</th>\n",
       "      <th>volume</th>\n",
       "      <th>trade_count</th>\n",
       "      <th>vwap</th>\n",
       "      <th>daily_return</th>\n",
       "    </tr>\n",
       "    <tr>\n",
       "      <th>timestamp</th>\n",
       "      <th></th>\n",
       "      <th></th>\n",
       "      <th></th>\n",
       "      <th></th>\n",
       "      <th></th>\n",
       "      <th></th>\n",
       "      <th></th>\n",
       "      <th></th>\n",
       "      <th></th>\n",
       "      <th></th>\n",
       "      <th></th>\n",
       "      <th></th>\n",
       "      <th></th>\n",
       "      <th></th>\n",
       "      <th></th>\n",
       "      <th></th>\n",
       "    </tr>\n",
       "  </thead>\n",
       "  <tbody>\n",
       "    <tr>\n",
       "      <th>2017-08-18 04:00:00+00:00</th>\n",
       "      <td>242.95</td>\n",
       "      <td>244.189</td>\n",
       "      <td>242.20</td>\n",
       "      <td>242.71</td>\n",
       "      <td>136747986</td>\n",
       "      <td>389140</td>\n",
       "      <td>243.019365</td>\n",
       "      <td>NaN</td>\n",
       "      <td>110.05</td>\n",
       "      <td>110.14</td>\n",
       "      <td>109.89</td>\n",
       "      <td>109.95</td>\n",
       "      <td>1564794</td>\n",
       "      <td>7827</td>\n",
       "      <td>109.993232</td>\n",
       "      <td>NaN</td>\n",
       "    </tr>\n",
       "    <tr>\n",
       "      <th>2017-08-21 04:00:00+00:00</th>\n",
       "      <td>242.64</td>\n",
       "      <td>243.200</td>\n",
       "      <td>241.83</td>\n",
       "      <td>242.90</td>\n",
       "      <td>65469736</td>\n",
       "      <td>231509</td>\n",
       "      <td>242.723675</td>\n",
       "      <td>0.000783</td>\n",
       "      <td>110.01</td>\n",
       "      <td>110.09</td>\n",
       "      <td>109.97</td>\n",
       "      <td>110.03</td>\n",
       "      <td>1717640</td>\n",
       "      <td>7688</td>\n",
       "      <td>110.029578</td>\n",
       "      <td>0.000728</td>\n",
       "    </tr>\n",
       "    <tr>\n",
       "      <th>2017-08-22 04:00:00+00:00</th>\n",
       "      <td>243.60</td>\n",
       "      <td>245.620</td>\n",
       "      <td>243.55</td>\n",
       "      <td>245.44</td>\n",
       "      <td>63140101</td>\n",
       "      <td>225770</td>\n",
       "      <td>244.835231</td>\n",
       "      <td>0.010457</td>\n",
       "      <td>109.99</td>\n",
       "      <td>110.02</td>\n",
       "      <td>109.87</td>\n",
       "      <td>109.93</td>\n",
       "      <td>1992321</td>\n",
       "      <td>8252</td>\n",
       "      <td>109.929751</td>\n",
       "      <td>-0.000909</td>\n",
       "    </tr>\n",
       "    <tr>\n",
       "      <th>2017-08-23 04:00:00+00:00</th>\n",
       "      <td>244.34</td>\n",
       "      <td>245.050</td>\n",
       "      <td>244.16</td>\n",
       "      <td>244.56</td>\n",
       "      <td>50203837</td>\n",
       "      <td>162095</td>\n",
       "      <td>244.690966</td>\n",
       "      <td>-0.003585</td>\n",
       "      <td>110.08</td>\n",
       "      <td>110.19</td>\n",
       "      <td>110.01</td>\n",
       "      <td>110.18</td>\n",
       "      <td>1894934</td>\n",
       "      <td>10186</td>\n",
       "      <td>110.092715</td>\n",
       "      <td>0.002274</td>\n",
       "    </tr>\n",
       "    <tr>\n",
       "      <th>2017-08-24 04:00:00+00:00</th>\n",
       "      <td>245.00</td>\n",
       "      <td>245.180</td>\n",
       "      <td>243.75</td>\n",
       "      <td>243.99</td>\n",
       "      <td>50741671</td>\n",
       "      <td>196830</td>\n",
       "      <td>244.323684</td>\n",
       "      <td>-0.002331</td>\n",
       "      <td>110.07</td>\n",
       "      <td>110.16</td>\n",
       "      <td>109.99</td>\n",
       "      <td>110.04</td>\n",
       "      <td>2102142</td>\n",
       "      <td>10203</td>\n",
       "      <td>110.051035</td>\n",
       "      <td>-0.001271</td>\n",
       "    </tr>\n",
       "  </tbody>\n",
       "</table>\n",
       "</div>"
      ],
      "text/plain": [
       "                              SPY                                      \\\n",
       "                             open     high     low   close     volume   \n",
       "timestamp                                                               \n",
       "2017-08-18 04:00:00+00:00  242.95  244.189  242.20  242.71  136747986   \n",
       "2017-08-21 04:00:00+00:00  242.64  243.200  241.83  242.90   65469736   \n",
       "2017-08-22 04:00:00+00:00  243.60  245.620  243.55  245.44   63140101   \n",
       "2017-08-23 04:00:00+00:00  244.34  245.050  244.16  244.56   50203837   \n",
       "2017-08-24 04:00:00+00:00  245.00  245.180  243.75  243.99   50741671   \n",
       "\n",
       "                                                                   AGG  \\\n",
       "                          trade_count        vwap daily_return    open   \n",
       "timestamp                                                                \n",
       "2017-08-18 04:00:00+00:00      389140  243.019365          NaN  110.05   \n",
       "2017-08-21 04:00:00+00:00      231509  242.723675     0.000783  110.01   \n",
       "2017-08-22 04:00:00+00:00      225770  244.835231     0.010457  109.99   \n",
       "2017-08-23 04:00:00+00:00      162095  244.690966    -0.003585  110.08   \n",
       "2017-08-24 04:00:00+00:00      196830  244.323684    -0.002331  110.07   \n",
       "\n",
       "                                                                        \\\n",
       "                             high     low   close   volume trade_count   \n",
       "timestamp                                                                \n",
       "2017-08-18 04:00:00+00:00  110.14  109.89  109.95  1564794        7827   \n",
       "2017-08-21 04:00:00+00:00  110.09  109.97  110.03  1717640        7688   \n",
       "2017-08-22 04:00:00+00:00  110.02  109.87  109.93  1992321        8252   \n",
       "2017-08-23 04:00:00+00:00  110.19  110.01  110.18  1894934       10186   \n",
       "2017-08-24 04:00:00+00:00  110.16  109.99  110.04  2102142       10203   \n",
       "\n",
       "                                                    \n",
       "                                 vwap daily_return  \n",
       "timestamp                                           \n",
       "2017-08-18 04:00:00+00:00  109.993232          NaN  \n",
       "2017-08-21 04:00:00+00:00  110.029578     0.000728  \n",
       "2017-08-22 04:00:00+00:00  109.929751    -0.000909  \n",
       "2017-08-23 04:00:00+00:00  110.092715     0.002274  \n",
       "2017-08-24 04:00:00+00:00  110.051035    -0.001271  "
      ]
     },
     "execution_count": 132,
     "metadata": {},
     "output_type": "execute_result"
    }
   ],
   "source": [
    "# Printing the simulation input data\n",
    "# YOUR CODE HERE!\n",
    "MCsim.portfolio_data.head()"
   ]
  },
  {
   "cell_type": "code",
   "execution_count": null,
   "metadata": {},
   "outputs": [],
   "source": [
    "# Running a Monte Carlo simulation to forecast 30 years cumulative returns\n",
    "# YOUR CODE HERE!\n"
   ]
  },
  {
   "cell_type": "code",
   "execution_count": 135,
   "metadata": {},
   "outputs": [
    {
     "ename": "AttributeError",
     "evalue": "'MCSimulation' object has no attribute 'hvplot'",
     "output_type": "error",
     "traceback": [
      "\u001b[1;31m---------------------------------------------------------------------------\u001b[0m",
      "\u001b[1;31mAttributeError\u001b[0m                            Traceback (most recent call last)",
      "Input \u001b[1;32mIn [135]\u001b[0m, in \u001b[0;36m<cell line: 3>\u001b[1;34m()\u001b[0m\n\u001b[0;32m      1\u001b[0m \u001b[38;5;66;03m# Plot simulation outcomes\u001b[39;00m\n\u001b[0;32m      2\u001b[0m \u001b[38;5;66;03m# YOUR CODE HERE!\u001b[39;00m\n\u001b[1;32m----> 3\u001b[0m \u001b[43mMCsim\u001b[49m\u001b[38;5;241;43m.\u001b[39;49m\u001b[43mhvplot\u001b[49m\n",
      "\u001b[1;31mAttributeError\u001b[0m: 'MCSimulation' object has no attribute 'hvplot'"
     ]
    }
   ],
   "source": [
    "# Plot simulation outcomes\n",
    "# YOUR CODE HERE!\n",
    "MCsim.hvplot"
   ]
  },
  {
   "cell_type": "code",
   "execution_count": null,
   "metadata": {},
   "outputs": [],
   "source": [
    "# Plot probability distribution and confidence intervals\n",
    "# YOUR CODE HERE!"
   ]
  },
  {
   "cell_type": "markdown",
   "metadata": {},
   "source": [
    "### Retirement Analysis"
   ]
  },
  {
   "cell_type": "code",
   "execution_count": null,
   "metadata": {},
   "outputs": [],
   "source": [
    "# Fetch summary statistics from the Monte Carlo simulation results\n",
    "# YOUR CODE HERE!\n",
    "\n",
    "# Print summary statistics\n",
    "# YOUR CODE HERE!"
   ]
  },
  {
   "cell_type": "markdown",
   "metadata": {},
   "source": [
    "### Calculate the expected portfolio return at the `95%` lower and upper confidence intervals based on a `$20,000` initial investment."
   ]
  },
  {
   "cell_type": "code",
   "execution_count": null,
   "metadata": {},
   "outputs": [],
   "source": [
    "# Set initial investment\n",
    "initial_investment = 20000\n",
    "\n",
    "# Use the lower and upper `95%` confidence intervals to calculate the range of the possible outcomes of our $20,000\n",
    "# YOUR CODE HERE!\n",
    "\n",
    "# Print results\n",
    "print(f\"There is a 95% chance that an initial investment of ${initial_investment} in the portfolio\"\n",
    "      f\" over the next 30 years will end within in the range of\"\n",
    "      f\" ${ci_lower} and ${ci_upper}\")"
   ]
  },
  {
   "cell_type": "markdown",
   "metadata": {},
   "source": [
    "### Calculate the expected portfolio return at the `95%` lower and upper confidence intervals based on a `50%` increase in the initial investment."
   ]
  },
  {
   "cell_type": "code",
   "execution_count": null,
   "metadata": {},
   "outputs": [],
   "source": [
    "# Set initial investment\n",
    "initial_investment = 20000 * 1.5\n",
    "\n",
    "# Use the lower and upper `95%` confidence intervals to calculate the range of the possible outcomes of our $30,000\n",
    "# YOUR CODE HERE!\n",
    "\n",
    "# Print results\n",
    "print(f\"There is a 95% chance that an initial investment of ${initial_investment} in the portfolio\"\n",
    "      f\" over the next 30 years will end within in the range of\"\n",
    "      f\" ${ci_lower} and ${ci_upper}\")"
   ]
  },
  {
   "cell_type": "markdown",
   "metadata": {},
   "source": [
    "## Optional Challenge - Early Retirement\n",
    "\n",
    "\n",
    "### Five Years Retirement Option"
   ]
  },
  {
   "cell_type": "code",
   "execution_count": null,
   "metadata": {},
   "outputs": [],
   "source": [
    "# Configuring a Monte Carlo simulation to forecast 5 years cumulative returns\n",
    "# YOUR CODE HERE!"
   ]
  },
  {
   "cell_type": "code",
   "execution_count": null,
   "metadata": {},
   "outputs": [],
   "source": [
    "# Running a Monte Carlo simulation to forecast 5 years cumulative returns\n",
    "# YOUR CODE HERE!"
   ]
  },
  {
   "cell_type": "code",
   "execution_count": null,
   "metadata": {},
   "outputs": [],
   "source": [
    "# Plot simulation outcomes\n",
    "# YOUR CODE HERE!"
   ]
  },
  {
   "cell_type": "code",
   "execution_count": null,
   "metadata": {},
   "outputs": [],
   "source": [
    "# Plot probability distribution and confidence intervals\n",
    "# YOUR CODE HERE!"
   ]
  },
  {
   "cell_type": "code",
   "execution_count": null,
   "metadata": {},
   "outputs": [],
   "source": [
    "# Fetch summary statistics from the Monte Carlo simulation results\n",
    "# YOUR CODE HERE!\n",
    "\n",
    "# Print summary statistics\n",
    "# YOUR CODE HERE!"
   ]
  },
  {
   "cell_type": "code",
   "execution_count": null,
   "metadata": {},
   "outputs": [],
   "source": [
    "# Set initial investment\n",
    "# YOUR CODE HERE!\n",
    "\n",
    "# Use the lower and upper `95%` confidence intervals to calculate the range of the possible outcomes of our $60,000\n",
    "# YOUR CODE HERE!\n",
    "\n",
    "# Print results\n",
    "print(f\"There is a 95% chance that an initial investment of ${initial_investment} in the portfolio\"\n",
    "      f\" over the next 5 years will end within in the range of\"\n",
    "      f\" ${ci_lower_five} and ${ci_upper_five}\")"
   ]
  },
  {
   "cell_type": "markdown",
   "metadata": {},
   "source": [
    "### Ten Years Retirement Option"
   ]
  },
  {
   "cell_type": "code",
   "execution_count": null,
   "metadata": {},
   "outputs": [],
   "source": [
    "# Configuring a Monte Carlo simulation to forecast 10 years cumulative returns\n",
    "# YOUR CODE HERE!"
   ]
  },
  {
   "cell_type": "code",
   "execution_count": null,
   "metadata": {},
   "outputs": [],
   "source": [
    "# Running a Monte Carlo simulation to forecast 10 years cumulative returns\n",
    "# YOUR CODE HERE!"
   ]
  },
  {
   "cell_type": "code",
   "execution_count": null,
   "metadata": {},
   "outputs": [],
   "source": [
    "# Plot simulation outcomes\n",
    "# YOUR CODE HERE!"
   ]
  },
  {
   "cell_type": "code",
   "execution_count": null,
   "metadata": {},
   "outputs": [],
   "source": [
    "# Plot probability distribution and confidence intervals\n",
    "# YOUR CODE HERE!"
   ]
  },
  {
   "cell_type": "code",
   "execution_count": null,
   "metadata": {},
   "outputs": [],
   "source": [
    "# Fetch summary statistics from the Monte Carlo simulation results\n",
    "# YOUR CODE HERE!\n",
    "\n",
    "# Print summary statistics\n",
    "# YOUR CODE HERE!"
   ]
  },
  {
   "cell_type": "code",
   "execution_count": null,
   "metadata": {},
   "outputs": [],
   "source": [
    "# Set initial investment\n",
    "# YOUR CODE HERE!\n",
    "\n",
    "# Use the lower and upper `95%` confidence intervals to calculate the range of the possible outcomes of our $60,000\n",
    "# YOUR CODE HERE!\n",
    "\n",
    "# Print results\n",
    "print(f\"There is a 95% chance that an initial investment of ${initial_investment} in the portfolio\"\n",
    "      f\" over the next 10 years will end within in the range of\"\n",
    "      f\" ${ci_lower_ten} and ${ci_upper_ten}\")"
   ]
  },
  {
   "cell_type": "code",
   "execution_count": null,
   "metadata": {},
   "outputs": [],
   "source": []
  }
 ],
 "metadata": {
  "kernelspec": {
   "display_name": "dev",
   "language": "python",
   "name": "dev"
  },
  "language_info": {
   "codemirror_mode": {
    "name": "ipython",
    "version": 3
   },
   "file_extension": ".py",
   "mimetype": "text/x-python",
   "name": "python",
   "nbconvert_exporter": "python",
   "pygments_lexer": "ipython3",
   "version": "3.9.12"
  },
  "nteract": {
   "version": "0.28.0"
  }
 },
 "nbformat": 4,
 "nbformat_minor": 4
}
